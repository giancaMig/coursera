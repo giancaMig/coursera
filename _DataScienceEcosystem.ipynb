{
 "cells": [
  {
   "cell_type": "markdown",
   "id": "8c00e559-845d-4ea2-a4d9-c43c2b36e9b3",
   "metadata": {},
   "source": [
    "# Data Science Tools and Ecosystem"
   ]
  },
  {
   "cell_type": "markdown",
   "id": "be984f80-199b-47e4-99fc-edb338a8bd06",
   "metadata": {},
   "source": [
    "## In this notebook, Data Science Tools and Ecosystem are summerized."
   ]
  },
  {
   "cell_type": "markdown",
   "id": "9d9de3b5-c707-4907-a5c8-45cef690dc8d",
   "metadata": {},
   "source": [
    "### Some of the popular languages that Data Scientists use are:\n",
    "1. Python\n",
    "2. R\n",
    "3. SQL\n",
    "4. Java"
   ]
  },
  {
   "cell_type": "markdown",
   "id": "df2ceaff-e2e1-4554-89f2-0dc0b28c6f3a",
   "metadata": {},
   "source": [
    "### Some of the commonly used libraries used by Data Scientists include:\n",
    "1. NumPy\n",
    "3. Pandas\n",
    "3. Matplotlib\n",
    "4. TensorFlow"
   ]
  },
  {
   "cell_type": "markdown",
   "id": "befb5e77-27bd-4115-85e0-c5ee938a8fc5",
   "metadata": {},
   "source": [
    "|Data Science Tools|\n",
    "|------------------|\n",
    "|Juyther Notebook  |\n",
    "|RStudio           |\n",
    "|Apache Spark      |\n"
   ]
  },
  {
   "cell_type": "markdown",
   "id": "1f5fd05e-b54e-4534-ac30-f125eeb7539e",
   "metadata": {},
   "source": [
    "### Below are a few examples of evaluating expressions in Python.\n",
    "- 3*5\n",
    "- (2+5)*3\n",
    "- 5*3+6"
   ]
  },
  {
   "cell_type": "code",
   "execution_count": 1,
   "id": "c8dcfc7b-6451-497c-a8b1-0b0bbde37d5c",
   "metadata": {},
   "outputs": [
    {
     "name": "stdout",
     "output_type": "stream",
     "text": [
      "17\n"
     ]
    }
   ],
   "source": [
    "# Multiply the two numbers inside the parentheses and then add 5 to the result.\n",
    "print((3*4)+5)"
   ]
  },
  {
   "cell_type": "code",
   "execution_count": 2,
   "id": "6f51c649-9fd9-4aa2-8aa2-185605bad439",
   "metadata": {},
   "outputs": [
    {
     "name": "stdout",
     "output_type": "stream",
     "text": [
      "3.3333333333333335\n"
     ]
    }
   ],
   "source": [
    "# This converts 200 minutes to hours by dividing by 60\n",
    "print(200/60)"
   ]
  },
  {
   "cell_type": "markdown",
   "id": "8fb663d9-9b09-43fe-9be8-1695897cc33e",
   "metadata": {},
   "source": [
    "### **Objectives**\n",
    "- The use of Markdowns cells\n",
    "- The use of H1 to H3 formats as title for the exercises\n",
    "- The use of ordered lists for listing of languages used in Data Science\n",
    "- The creation of Table to represents the tools used in Data Science\n",
    "- Visualizing of arithmetic expressions\n",
    "- Execution of arithmetic expressions\n"
   ]
  },
  {
   "cell_type": "markdown",
   "id": "8baeb439-c26a-4e49-bc07-4cca791c0e53",
   "metadata": {},
   "source": [
    "## *The Author:* Gian-Carlo Migliastro "
   ]
  },
  {
   "cell_type": "code",
   "execution_count": null,
   "id": "c3231b2d-d518-4ee6-994f-a1777c30934f",
   "metadata": {},
   "outputs": [],
   "source": []
  }
 ],
 "metadata": {
  "kernelspec": {
   "display_name": "Python 3 (ipykernel)",
   "language": "python",
   "name": "python3"
  },
  "language_info": {
   "codemirror_mode": {
    "name": "ipython",
    "version": 3
   },
   "file_extension": ".py",
   "mimetype": "text/x-python",
   "name": "python",
   "nbconvert_exporter": "python",
   "pygments_lexer": "ipython3",
   "version": "3.12.5"
  }
 },
 "nbformat": 4,
 "nbformat_minor": 5
}
